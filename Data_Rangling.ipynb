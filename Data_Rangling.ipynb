{
 "cells": [
  {
   "cell_type": "code",
   "execution_count": 5,
   "metadata": {},
   "outputs": [
    {
     "name": "stdout",
     "output_type": "stream",
     "text": [
      "         date                         state state_abbrev  confirmed  \\\n",
      "0  2020-01-25  Australian Capital Territory          ACT          0   \n",
      "1  2020-01-25               New South Wales          NSW          3   \n",
      "2  2020-01-25            Northern Territory           NT          0   \n",
      "3  2020-01-25                    Queensland          QLD          0   \n",
      "4  2020-01-25               South Australia           SA          0   \n",
      "\n",
      "   confirmed_cum  deaths  deaths_cum  tests  tests_cum  positives  ...  \\\n",
      "0              0       0           0      0        0.0          0  ...   \n",
      "1              3       0           0      0        0.0          3  ...   \n",
      "2              0       0           0      0        0.0          0  ...   \n",
      "3              0       0           0      0        0.0          0  ...   \n",
      "4              0       0           0      0        0.0          0  ...   \n",
      "\n",
      "   recovered  recovered_cum  hosp  hosp_cum  icu  icu_cum  vent  vent_cum  \\\n",
      "0          0            0.0     0         0    0        0     0         0   \n",
      "1          0            0.0     0         0    0        0     0         0   \n",
      "2          0            0.0     0         0    0        0     0         0   \n",
      "3          0            0.0     0         0    0        0     0         0   \n",
      "4          0            0.0     0         0    0        0     0         0   \n",
      "\n",
      "   vaccines  vaccines_cum  \n",
      "0         0             0  \n",
      "1         0             0  \n",
      "2         0             0  \n",
      "3         0             0  \n",
      "4         0             0  \n",
      "\n",
      "[5 rows x 21 columns]\n"
     ]
    }
   ],
   "source": [
    "import pandas as pd\n",
    "\n",
    "covid_states_df = 'C:\\Bootcamp-project\\Project-Three\\COVID-19_Data-master\\Data\\COVID_AU_state.csv'\n",
    "df = pd.read_csv(covid_states_df)\n",
    "print(df.head(5))"
   ]
  }
 ],
 "metadata": {
  "kernelspec": {
   "display_name": "Python 3.9.12 ('base')",
   "language": "python",
   "name": "python3"
  },
  "language_info": {
   "codemirror_mode": {
    "name": "ipython",
    "version": 3
   },
   "file_extension": ".py",
   "mimetype": "text/x-python",
   "name": "python",
   "nbconvert_exporter": "python",
   "pygments_lexer": "ipython3",
   "version": "3.9.12"
  },
  "orig_nbformat": 4,
  "vscode": {
   "interpreter": {
    "hash": "9caa730cadaf79f02e6c0e023f9384e0cf856c4bf4ab42d1a9952074a22e8fbb"
   }
  }
 },
 "nbformat": 4,
 "nbformat_minor": 2
}
